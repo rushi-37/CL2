{
 "cells": [
  {
   "attachments": {},
   "cell_type": "markdown",
   "metadata": {},
   "source": [
    "#Implement Tarrataca’s quantum production system with the 3-puzzle problem\n"
   ]
  },
  {
   "cell_type": "code",
   "execution_count": null,
   "metadata": {},
   "outputs": [],
   "source": [
    "#!pip install qiskit\n",
    "#!pip install qiskit_aer"
   ]
  },
  {
   "cell_type": "code",
   "execution_count": 6,
   "metadata": {},
   "outputs": [],
   "source": [
    "from qiskit import QuantumCircuit, ClassicalRegister, QuantumRegister,transpile\n",
    "from qiskit.circuit.library import GroverOperator\n",
    "from qiskit_aer import AerSimulator"
   ]
  },
  {
   "cell_type": "code",
   "execution_count": null,
   "metadata": {},
   "outputs": [],
   "source": []
  },
  {
   "cell_type": "code",
   "execution_count": 7,
   "metadata": {},
   "outputs": [],
   "source": [
    "import matplotlib.pyplot as plt\n",
    "import seaborn as sns"
   ]
  },
  {
   "cell_type": "code",
   "execution_count": 8,
   "metadata": {},
   "outputs": [],
   "source": [
    "def create_3_puzzle_circuit():\n",
    "    \"\"\"Create the quantum circuit for solving the 3-puzzle problem using Grover's algorithm.\"\"\"\n",
    "    # Initialize quantum and classical registers\n",
    "    qr = QuantumRegister(3, 'q')\n",
    "    cr = ClassicalRegister(3, 'c')\n",
    "    qc = QuantumCircuit(qr, cr)\n",
    "\n",
    "    # Initial state |000>\n",
    "    # CNOT gates to exchange positions of qubits\n",
    "    qc.cx(qr[0], qr[1])\n",
    "    qc.cx(qr[1], qr[2])\n",
    "\n",
    "    # Apply Hadamard gates to create superposition\n",
    "    qc.h(qr[0])\n",
    "    qc.h(qr[1])\n",
    "    qc.h(qr[2])\n",
    "\n",
    "    # Placeholder for Grover's algorithm\n",
    "    # This requires defining an oracle and the Grover operator\n",
    "    # Here we use a simple placeholder to illustrate the concept\n",
    "    oracle = QuantumCircuit(3)\n",
    "    oracle.z(0)  # Example oracle condition (adjust based on the puzzle's rules)\n",
    "    oracle_gate = oracle.to_gate(label=\"Oracle\")\n",
    "\n",
    "    # Grover operator\n",
    "    grover_operator = GroverOperator(oracle)\n",
    "    qc.append(grover_operator, qr)\n",
    "\n",
    "    # Measurement\n",
    "    qc.measure(qr, cr)\n",
    "    return qc"
   ]
  },
  {
   "cell_type": "code",
   "execution_count": 9,
   "metadata": {},
   "outputs": [
    {
     "name": "stdout",
     "output_type": "stream",
     "text": [
      "Measurement results from the 3-puzzle quantum circuit:\n",
      "{'111': 100, '110': 118, '010': 122, '100': 148, '001': 135, '011': 137, '101': 132, '000': 132}\n"
     ]
    }
   ],
   "source": [
    "# Create the 3-puzzle quantum circuit\n",
    "qc = create_3_puzzle_circuit()\n",
    "\n",
    "# Execute the circuit on a quantum simulator\n",
    "simulator = AerSimulator()\n",
    "transpiled_qc = transpile(qc, simulator)\n",
    "\n",
    "job = simulator.run(transpiled_qc, shots=1024)\n",
    "result = job.result()\n",
    "counts = result.get_counts()\n",
    "\n",
    "# Output the result\n",
    "print(\"Measurement results from the 3-puzzle quantum circuit:\")\n",
    "print(counts)"
   ]
  },
  {
   "cell_type": "code",
   "execution_count": 10,
   "metadata": {},
   "outputs": [
    {
     "name": "stderr",
     "output_type": "stream",
     "text": [
      "C:\\Users\\LENOVO\\anaconda3\\ANACONDA\\Lib\\site-packages\\seaborn\\_oldcore.py:1765: FutureWarning: unique with argument that is not not a Series, Index, ExtensionArray, or np.ndarray is deprecated and will raise in a future version.\n",
      "  order = pd.unique(vector)\n"
     ]
    },
    {
     "data": {
      "image/png": "[encoded data removed]",
      "text/plain": [
       "<Figure size 640x480 with 1 Axes>"
      ]
     },
     "metadata": {},
     "output_type": "display_data"
    }
   ],
   "source": [
    "sns.barplot(x=list(counts.keys()), y=list(counts.values()))\n",
    "plt.xlabel('Measurement Outcomes')\n",
    "plt.ylabel('Counts')\n",
    "plt.title('3-Puzzle Quantum Circuit Measurement Results')\n",
    "plt.show()"
   ]
  },
  {
   "cell_type": "code",
   "execution_count": null,
   "metadata": {},
   "outputs": [],
   "source": []
  },
  {
   "cell_type": "code",
   "execution_count": null,
   "metadata": {},
   "outputs": [],
   "source": []
  },
  {
   "cell_type": "code",
   "execution_count": null,
   "metadata": {},
   "outputs": [],
   "source": []
  }
 ],
 "metadata": {
  "kernelspec": {
   "display_name": "Python 3 (ipykernel)",
   "language": "python",
   "name": "python3"
  },
  "language_info": {
   "codemirror_mode": {
    "name": "ipython",
    "version": 3
   },
   "file_extension": ".py",
   "mimetype": "text/x-python",
   "name": "python",
   "nbconvert_exporter": "python",
   "pygments_lexer": "ipython3",
   "version": "3.11.7"
  }
 },
 "nbformat": 4,
 "nbformat_minor": 4
}
