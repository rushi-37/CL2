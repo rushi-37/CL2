{
  "cells": [
    {
      "cell_type": "code",
      "execution_count": null,
      "id": "dda57889",
      "metadata": {
        "id": "dda57889"
      },
      "outputs": [],
      "source": [
        "#Tackle Noise with Error Correction"
      ]
    },
    {
      "cell_type": "code",
      "source": [
        "!pip install qiskit\n",
        "!pip install qiskit_aer"
      ],
      "metadata": {
        "colab": {
          "base_uri": "https://localhost:8080/"
        },
        "id": "bt0xd0POTWJH",
        "outputId": "fba3abd5-10a1-4aa0-c01f-623c32dcfad7"
      },
      "id": "bt0xd0POTWJH",
      "execution_count": 17,
      "outputs": [
        {
          "output_type": "stream",
          "name": "stdout",
          "text": [
            "Requirement already satisfied: qiskit in /usr/local/lib/python3.10/dist-packages (1.2.4)\n",
            "Requirement already satisfied: rustworkx>=0.15.0 in /usr/local/lib/python3.10/dist-packages (from qiskit) (0.15.1)\n",
            "Requirement already satisfied: numpy<3,>=1.17 in /usr/local/lib/python3.10/dist-packages (from qiskit) (1.26.4)\n",
            "Requirement already satisfied: scipy>=1.5 in /usr/local/lib/python3.10/dist-packages (from qiskit) (1.13.1)\n",
            "Requirement already satisfied: sympy>=1.3 in /usr/local/lib/python3.10/dist-packages (from qiskit) (1.13.1)\n",
            "Requirement already satisfied: dill>=0.3 in /usr/local/lib/python3.10/dist-packages (from qiskit) (0.3.9)\n",
            "Requirement already satisfied: python-dateutil>=2.8.0 in /usr/local/lib/python3.10/dist-packages (from qiskit) (2.8.2)\n",
            "Requirement already satisfied: stevedore>=3.0.0 in /usr/local/lib/python3.10/dist-packages (from qiskit) (5.3.0)\n",
            "Requirement already satisfied: typing-extensions in /usr/local/lib/python3.10/dist-packages (from qiskit) (4.12.2)\n",
            "Requirement already satisfied: symengine<0.14,>=0.11 in /usr/local/lib/python3.10/dist-packages (from qiskit) (0.13.0)\n",
            "Requirement already satisfied: six>=1.5 in /usr/local/lib/python3.10/dist-packages (from python-dateutil>=2.8.0->qiskit) (1.16.0)\n",
            "Requirement already satisfied: pbr>=2.0.0 in /usr/local/lib/python3.10/dist-packages (from stevedore>=3.0.0->qiskit) (6.1.0)\n",
            "Requirement already satisfied: mpmath<1.4,>=1.1.0 in /usr/local/lib/python3.10/dist-packages (from sympy>=1.3->qiskit) (1.3.0)\n",
            "Requirement already satisfied: qiskit_aer in /usr/local/lib/python3.10/dist-packages (0.15.1)\n",
            "Requirement already satisfied: qiskit>=1.1.0 in /usr/local/lib/python3.10/dist-packages (from qiskit_aer) (1.2.4)\n",
            "Requirement already satisfied: numpy>=1.16.3 in /usr/local/lib/python3.10/dist-packages (from qiskit_aer) (1.26.4)\n",
            "Requirement already satisfied: scipy>=1.0 in /usr/local/lib/python3.10/dist-packages (from qiskit_aer) (1.13.1)\n",
            "Requirement already satisfied: psutil>=5 in /usr/local/lib/python3.10/dist-packages (from qiskit_aer) (5.9.5)\n",
            "Requirement already satisfied: rustworkx>=0.15.0 in /usr/local/lib/python3.10/dist-packages (from qiskit>=1.1.0->qiskit_aer) (0.15.1)\n",
            "Requirement already satisfied: sympy>=1.3 in /usr/local/lib/python3.10/dist-packages (from qiskit>=1.1.0->qiskit_aer) (1.13.1)\n",
            "Requirement already satisfied: dill>=0.3 in /usr/local/lib/python3.10/dist-packages (from qiskit>=1.1.0->qiskit_aer) (0.3.9)\n",
            "Requirement already satisfied: python-dateutil>=2.8.0 in /usr/local/lib/python3.10/dist-packages (from qiskit>=1.1.0->qiskit_aer) (2.8.2)\n",
            "Requirement already satisfied: stevedore>=3.0.0 in /usr/local/lib/python3.10/dist-packages (from qiskit>=1.1.0->qiskit_aer) (5.3.0)\n",
            "Requirement already satisfied: typing-extensions in /usr/local/lib/python3.10/dist-packages (from qiskit>=1.1.0->qiskit_aer) (4.12.2)\n",
            "Requirement already satisfied: symengine<0.14,>=0.11 in /usr/local/lib/python3.10/dist-packages (from qiskit>=1.1.0->qiskit_aer) (0.13.0)\n",
            "Requirement already satisfied: six>=1.5 in /usr/local/lib/python3.10/dist-packages (from python-dateutil>=2.8.0->qiskit>=1.1.0->qiskit_aer) (1.16.0)\n",
            "Requirement already satisfied: pbr>=2.0.0 in /usr/local/lib/python3.10/dist-packages (from stevedore>=3.0.0->qiskit>=1.1.0->qiskit_aer) (6.1.0)\n",
            "Requirement already satisfied: mpmath<1.4,>=1.1.0 in /usr/local/lib/python3.10/dist-packages (from sympy>=1.3->qiskit>=1.1.0->qiskit_aer) (1.3.0)\n"
          ]
        }
      ]
    },
    {
      "cell_type": "code",
      "execution_count": 18,
      "id": "4a624fd5",
      "metadata": {
        "id": "4a624fd5"
      },
      "outputs": [],
      "source": [
        "from qiskit import QuantumCircuit\n",
        "from qiskit_aer import AerSimulator\n",
        "from qiskit.visualization import plot_histogram"
      ]
    },
    {
      "cell_type": "code",
      "execution_count": 19,
      "id": "1d3a7b7d",
      "metadata": {
        "id": "1d3a7b7d"
      },
      "outputs": [],
      "source": [
        "from qiskit_aer.noise import NoiseModel,depolarizing_error"
      ]
    },
    {
      "cell_type": "code",
      "execution_count": 20,
      "id": "6ab7b94a",
      "metadata": {
        "id": "6ab7b94a"
      },
      "outputs": [],
      "source": [
        "qc=QuantumCircuit(3,3)"
      ]
    },
    {
      "cell_type": "code",
      "execution_count": 21,
      "id": "62ef1d2d",
      "metadata": {
        "colab": {
          "base_uri": "https://localhost:8080/"
        },
        "id": "62ef1d2d",
        "outputId": "6189736d-54ab-443d-d6a6-2f9dfe28a2d1"
      },
      "outputs": [
        {
          "output_type": "execute_result",
          "data": {
            "text/plain": [
              "<qiskit.circuit.instructionset.InstructionSet at 0x7ef47811da20>"
            ]
          },
          "metadata": {},
          "execution_count": 21
        }
      ],
      "source": [
        "qc.h(0)\n",
        "qc.cx(0,1)\n",
        "qc.cx(0,2)\n",
        "qc.measure([0,1,2],[0,1,2])"
      ]
    },
    {
      "cell_type": "code",
      "execution_count": 22,
      "id": "d200422c",
      "metadata": {
        "id": "d200422c"
      },
      "outputs": [],
      "source": [
        "noise_model = NoiseModel()"
      ]
    },
    {
      "cell_type": "code",
      "execution_count": 23,
      "id": "3e7c1b31",
      "metadata": {
        "id": "3e7c1b31"
      },
      "outputs": [],
      "source": [
        "# Add depolarizing noise for single-qubit gates and two-qubit gates\n",
        "depol_1q = depolarizing_error(0.01, 1)\n",
        "depol_2q = depolarizing_error(0.02, 2)\n",
        "noise_model.add_all_qubit_quantum_error(depol_1q, ['u3', 'x', 'h'])\n",
        "noise_model.add_all_qubit_quantum_error(depol_2q, ['cx'])"
      ]
    },
    {
      "cell_type": "code",
      "execution_count": 24,
      "id": "82fdc2e0",
      "metadata": {
        "id": "82fdc2e0"
      },
      "outputs": [],
      "source": [
        "# Use AerSimulator and noise model for simulation\n",
        "backend = AerSimulator()"
      ]
    },
    {
      "cell_type": "code",
      "execution_count": 25,
      "id": "e9aee4bb",
      "metadata": {
        "id": "e9aee4bb"
      },
      "outputs": [],
      "source": [
        "# Execute the quantum circuit with noise model\n",
        "result_with_noise = backend.run(qc,noise_model=noise_model, shots=1024).result()"
      ]
    },
    {
      "cell_type": "code",
      "execution_count": 26,
      "id": "b2c03fa1",
      "metadata": {
        "id": "b2c03fa1"
      },
      "outputs": [],
      "source": [
        "# Get the raw counts with noise\n",
        "noisy_counts = result_with_noise.get_counts(qc)"
      ]
    },
    {
      "cell_type": "code",
      "execution_count": 27,
      "id": "a7156183",
      "metadata": {
        "id": "a7156183"
      },
      "outputs": [],
      "source": [
        "\n",
        "# Simple mitigation technique: scale counts based on expected noise\n",
        "mitigated_counts = {key: noisy_counts[key] * (1 - 0.02) for key in noisy_counts}"
      ]
    },
    {
      "cell_type": "code",
      "execution_count": 28,
      "id": "12a913ba",
      "metadata": {
        "colab": {
          "base_uri": "https://localhost:8080/",
          "height": 446
        },
        "id": "12a913ba",
        "outputId": "81d7d2ce-a36f-4f53-950e-2255e390e2cd"
      },
      "outputs": [
        {
          "output_type": "execute_result",
          "data": {
            "text/plain": [
              "<Figure size 640x480 with 1 Axes>"
            ],
            "image/png": "[encoded data removed]"
          },
          "metadata": {},
          "execution_count": 28
        }
      ],
      "source": [
        "# Plot the mitigated results\n",
        "plot_histogram(mitigated_counts)"
      ]
    },
    {
      "cell_type": "code",
      "execution_count": 29,
      "id": "02431f03",
      "metadata": {
        "colab": {
          "base_uri": "https://localhost:8080/"
        },
        "id": "02431f03",
        "outputId": "87926d96-6343-497c-b49d-fe20818e3c53"
      },
      "outputs": [
        {
          "output_type": "stream",
          "name": "stdout",
          "text": [
            "Original counts:\n",
            "{'001': 1, '100': 1, '110': 6, '101': 9, '011': 5, '111': 497, '010': 6, '000': 499}\n"
          ]
        }
      ],
      "source": [
        "print(\"Original counts:\")\n",
        "print(noisy_counts)"
      ]
    },
    {
      "cell_type": "code",
      "execution_count": 30,
      "id": "5b3273b7",
      "metadata": {
        "colab": {
          "base_uri": "https://localhost:8080/"
        },
        "id": "5b3273b7",
        "outputId": "e0e5ed91-302c-4228-f8c3-f85072e51537"
      },
      "outputs": [
        {
          "output_type": "stream",
          "name": "stdout",
          "text": [
            "Mitigated counts:\n",
            "{'001': 0.98, '100': 0.98, '110': 5.88, '101': 8.82, '011': 4.9, '111': 487.06, '010': 5.88, '000': 489.02}\n"
          ]
        }
      ],
      "source": [
        "print(\"Mitigated counts:\")\n",
        "print(mitigated_counts)"
      ]
    },
    {
      "cell_type": "code",
      "execution_count": 31,
      "id": "0fba9966",
      "metadata": {
        "colab": {
          "base_uri": "https://localhost:8080/",
          "height": 446
        },
        "id": "0fba9966",
        "outputId": "ff17c1c4-9356-48ac-ac7b-de00144db2f7"
      },
      "outputs": [
        {
          "output_type": "execute_result",
          "data": {
            "text/plain": [
              "<Figure size 640x480 with 1 Axes>"
            ],
            "image/png": "[encoded data removed]"
          },
          "metadata": {},
          "execution_count": 31
        }
      ],
      "source": [
        "plot_histogram([noisy_counts, mitigated_counts], legend=['Original', 'Mitigated'])"
      ]
    },
    {
      "cell_type": "code",
      "execution_count": 31,
      "id": "cfbbe6c8",
      "metadata": {
        "id": "cfbbe6c8"
      },
      "outputs": [],
      "source": []
    },
    {
      "cell_type": "code",
      "execution_count": null,
      "id": "5945d633",
      "metadata": {
        "id": "5945d633"
      },
      "outputs": [],
      "source": []
    },
    {
      "cell_type": "code",
      "execution_count": null,
      "id": "369a4a7d",
      "metadata": {
        "id": "369a4a7d"
      },
      "outputs": [],
      "source": []
    }
  ],
  "metadata": {
    "kernelspec": {
      "display_name": "Python 3 (ipykernel)",
      "language": "python",
      "name": "python3"
    },
    "language_info": {
      "codemirror_mode": {
        "name": "ipython",
        "version": 3
      },
      "file_extension": ".py",
      "mimetype": "text/x-python",
      "name": "python",
      "nbconvert_exporter": "python",
      "pygments_lexer": "ipython3",
      "version": "3.10.9"
    },
    "colab": {
      "provenance": []
    }
  },
  "nbformat": 4,
  "nbformat_minor": 5
}